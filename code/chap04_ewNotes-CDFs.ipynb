{
 "cells": [
  {
   "cell_type": "markdown",
   "metadata": {},
   "source": [
    "# Think Stats 2 Chapter 4: Cumulative Distribution Functions\n",
    "\n",
    "Think Stats 2 was written by Allen B. Downey\n",
    "\n",
    "**The Question: Do first babies tend to be born late?**"
   ]
  },
  {
   "cell_type": "code",
   "execution_count": 3,
   "metadata": {},
   "outputs": [],
   "source": [
    "from __future__ import print_function, division\n",
    "\n",
    "%matplotlib inline\n",
    "\n",
    "import numpy as np\n",
    "import pandas as pd\n",
    "\n",
    "import nsfg\n",
    "import first\n",
    "import thinkstats2\n",
    "import thinkplot\n",
    "\n",
    "pd.options.display.max_rows = 400\n",
    "pd.options.display.max_columns = 244"
   ]
  },
  {
   "cell_type": "markdown",
   "metadata": {},
   "source": [
    "## Binning\n",
    "\n",
    "Useful when there are too many values to paint a clear picture with a PMF (like the example below).\n",
    "- It means dividing the range of values into non-overlapping intervals ('bins'), and counting the number of values in each bin.\n",
    "- While useful, it can be tricky to get the size of the bins right.\n",
    "    - If they are big enough to sooth out the noise, they might also smooth out useful information"
   ]
  },
  {
   "cell_type": "code",
   "execution_count": 8,
   "metadata": {},
   "outputs": [
    {
     "name": "stdout",
     "output_type": "stream",
     "text": [
      "Firsts 4413 4363\n",
      "Others 4735 4675\n"
     ]
    },
    {
     "data": {
      "image/png": "[encoded data removed]",
      "text/plain": [
       "<Figure size 432x288 with 1 Axes>"
      ]
     },
     "metadata": {
      "needs_background": "light"
     },
     "output_type": "display_data"
    }
   ],
   "source": [
    "# Use Pmfs to plot the birth weights of first babies vs. others\n",
    "first_wgt = firsts.totalwgt_lb\n",
    "first_wgt_dropna = first_wgt.dropna()\n",
    "print('Firsts', len(first_wgt), len(first_wgt_dropna))\n",
    " \n",
    "other_wgt = others.totalwgt_lb\n",
    "other_wgt_dropna = other_wgt.dropna()\n",
    "print('Others', len(other_wgt), len(other_wgt_dropna))\n",
    "\n",
    "first_pmf = thinkstats2.Pmf(first_wgt_dropna, label='first')\n",
    "other_pmf = thinkstats2.Pmf(other_wgt_dropna, label='other')\n",
    "\n",
    "width = 0.4 / 16\n",
    "\n",
    "# plot PMFs of birth weights for first babies and others\n",
    "thinkplot.PrePlot(2)\n",
    "thinkplot.Hist(first_pmf, align='right', width=width)\n",
    "thinkplot.Hist(other_pmf, align='left', width=width)\n",
    "thinkplot.Config(xlabel='Weight (pounds)', ylabel='PMF')"
   ]
  },
  {
   "cell_type": "markdown",
   "metadata": {},
   "source": [
    "## Percentile Rank & Percentile\n",
    "\n",
    "As you can see in the above cell's output, there are just too many values to be able to tell the difference in birth weights between first babies and others.\n",
    "\n",
    "Let's see how we could use Python to determine a percentile rank. As an example, if you are in the 90th percentile, you did as well as or better than 90% of the people who took the exam."
   ]
  },
  {
   "cell_type": "code",
   "execution_count": 36,
   "metadata": {},
   "outputs": [
    {
     "data": {
      "text/plain": [
       "60.0"
      ]
     },
     "execution_count": 36,
     "metadata": {},
     "output_type": "execute_result"
    }
   ],
   "source": [
    "def PercentileRank(scores, your_score):\n",
    "    \"\"\"Takes a distribution of scores, and a single score, and returns the percentile rank of the given score.\"\"\"\n",
    "    \n",
    "    count = 0\n",
    "    for score in scores:\n",
    "        if your_score >= score:\n",
    "            count += 1\n",
    "        \n",
    "    percentile_rank = 100 * count / len(scores)\n",
    "    return percentile_rank\n",
    "\n",
    "# test against book example\n",
    "scores = [55, 66, 77, 88, 99]\n",
    "your_score = 77\n",
    "\n",
    "p_rank = PercentileRank(scores, your_score)\n",
    "p_rank"
   ]
  },
  {
   "cell_type": "markdown",
   "metadata": {},
   "source": [
    "### Percentile\n",
    "\n",
    "Going the other way (from percentile rank to percentile) is slightly harder."
   ]
  },
  {
   "cell_type": "code",
   "execution_count": 29,
   "metadata": {},
   "outputs": [
    {
     "data": {
      "text/plain": [
       "66"
      ]
     },
     "execution_count": 29,
     "metadata": {},
     "output_type": "execute_result"
    }
   ],
   "source": [
    "def Percentile2(scores, p_rank):\n",
    "    \"\"\"Given scores & rank, returns the value of the given percentile rank.\"\"\"\n",
    "    scores.sort()\n",
    "    # get the index of scores associated with that percentage\n",
    "    index = p_rank * (len(scores) - 1) // 100\n",
    "    return scores[index]\n",
    "\n",
    "# test\n",
    "Percentile2(scores, 43)"
   ]
  },
  {
   "cell_type": "markdown",
   "metadata": {},
   "source": [
    "## CDFs (Cumulative Distribution functions)\n",
    "\n",
    "The CDF is the function that maps from a value to its percentile rank.\n",
    "\n",
    "It is almost identical to the PercentileRank function, but returns a value between 0-1 instead of 0-100."
   ]
  },
  {
   "cell_type": "code",
   "execution_count": 34,
   "metadata": {},
   "outputs": [],
   "source": [
    "def EvalCdf(sample, x):\n",
    "    count = 0\n",
    "    for value in sample:\n",
    "        if value <= x:\n",
    "            count += 1\n",
    "    prob = count / len(sample)\n",
    "    return prob"
   ]
  },
  {
   "cell_type": "code",
   "execution_count": 35,
   "metadata": {},
   "outputs": [
    {
     "data": {
      "text/plain": [
       "0.6"
      ]
     },
     "execution_count": 35,
     "metadata": {},
     "output_type": "execute_result"
    }
   ],
   "source": [
    "EvalCdf(scores, 77)"
   ]
  },
  {
   "cell_type": "markdown",
   "metadata": {},
   "source": [
    "## Plotting and Reading CDFs\n",
    "\n",
    "Okay, now let's plot a CDF for our NSFG's ``prglngth`` data."
   ]
  },
  {
   "cell_type": "code",
   "execution_count": 38,
   "metadata": {},
   "outputs": [],
   "source": [
    "live, firsts, others = first.MakeFrames()"
   ]
  },
  {
   "cell_type": "code",
   "execution_count": 40,
   "metadata": {},
   "outputs": [
    {
     "data": {
      "text/plain": [
       "Cdf([ 0  4  9 13 17 18 19 20 21 22 23 24 25 26 27 28 29 30 31 32 33 34 35 36\n",
       " 37 38 39 40 41 42 43 44 45 46 47 48 50], [1.09313511e-04 2.18627022e-04 3.27940533e-04 4.37254045e-04\n",
       " 6.55881067e-04 7.65194578e-04 8.74508089e-04 9.83821600e-04\n",
       " 1.20244862e-03 1.96764320e-03 2.07695671e-03 3.49803236e-03\n",
       " 3.82597289e-03 7.65194578e-03 7.97988631e-03 1.14779187e-02\n",
       " 1.37735024e-02 2.88587669e-02 3.18102317e-02 4.43812855e-02\n",
       " 4.97376476e-02 5.62964582e-02 9.02929602e-02 1.25382597e-01\n",
       " 1.75120245e-01 2.41473546e-01 7.54481854e-01 8.76475732e-01\n",
       " 9.40642763e-01 9.76497595e-01 9.92675995e-01 9.97704416e-01\n",
       " 9.98797551e-01 9.98906865e-01 9.99016178e-01 9.99781373e-01\n",
       " 1.00000000e+00], 'prglngth')"
      ]
     },
     "execution_count": 40,
     "metadata": {},
     "output_type": "execute_result"
    }
   ],
   "source": [
    "cdf = thinkstats2.Cdf(live.prglngth, label='prglngth')\n",
    "cdf"
   ]
  },
  {
   "cell_type": "code",
   "execution_count": 41,
   "metadata": {},
   "outputs": [
    {
     "data": {
      "text/plain": [
       "0.00032794053344993443"
      ]
     },
     "execution_count": 41,
     "metadata": {},
     "output_type": "execute_result"
    }
   ],
   "source": [
    "# to get the probability of a certain value from a cdf\n",
    "cdf.Prob(9)"
   ]
  },
  {
   "cell_type": "code",
   "execution_count": 43,
   "metadata": {},
   "outputs": [
    {
     "data": {
      "text/plain": [
       "50"
      ]
     },
     "execution_count": 43,
     "metadata": {},
     "output_type": "execute_result"
    }
   ],
   "source": [
    "# to get the value associated with a certain probability \n",
    "cdf.Value(9.99781373e-01)"
   ]
  },
  {
   "cell_type": "code",
   "execution_count": 45,
   "metadata": {},
   "outputs": [
    {
     "data": {
      "image/png": "[encoded data removed]",
      "text/plain": [
       "<Figure size 432x288 with 1 Axes>"
      ]
     },
     "metadata": {
      "needs_background": "light"
     },
     "output_type": "display_data"
    },
    {
     "data": {
      "text/plain": [
       "<Figure size 576x432 with 0 Axes>"
      ]
     },
     "metadata": {},
     "output_type": "display_data"
    }
   ],
   "source": [
    "thinkplot.Cdf(cdf)\n",
    "thinkplot.Show(xlabel='weeks', ylabel='CDF')"
   ]
  },
  {
   "cell_type": "markdown",
   "metadata": {},
   "source": [
    "To read the above, look at a certain week. At 35 weeks, you can see the percentile rank is about 0.1. At 40 weeks, the percentile jumps to about 0.8. That means that if a woman's pregnancy was 40 weeks, they're in the 80th percentile.\n",
    "\n",
    "The sections with steep vertical leaps represent the most common values in the sample."
   ]
  },
  {
   "cell_type": "markdown",
   "metadata": {},
   "source": [
    "## Comparing CDFs"
   ]
  },
  {
   "cell_type": "code",
   "execution_count": 47,
   "metadata": {},
   "outputs": [
    {
     "data": {
      "image/png": "[encoded data removed]",
      "text/plain": [
       "<Figure size 432x288 with 1 Axes>"
      ]
     },
     "metadata": {
      "needs_background": "light"
     },
     "output_type": "display_data"
    }
   ],
   "source": [
    "first_cdf = thinkstats2.Cdf(firsts.totalwgt_lb, label='first')\n",
    "other_cdf = thinkstats2.Cdf(others.totalwgt_lb, label='other')\n",
    "\n",
    "thinkplot.PrePlot(2)\n",
    "thinkplot.Cdfs([first_cdf, other_cdf])\n",
    "thinkplot.Config(xlabel='Weight (pounds)', ylabel='CDF')"
   ]
  },
  {
   "cell_type": "markdown",
   "metadata": {},
   "source": [
    "## Using CDFs to find....\n",
    "\n",
    "**Interquartile range (IQR)**:\n",
    "Used to measure the spread of a distribution. It equals the difference between the 75th and 25th percentiles."
   ]
  },
  {
   "cell_type": "code",
   "execution_count": 57,
   "metadata": {},
   "outputs": [
    {
     "data": {
      "text/plain": [
       "0"
      ]
     },
     "execution_count": 57,
     "metadata": {},
     "output_type": "execute_result"
    }
   ],
   "source": [
    "iqr = cdf.Percentile(75) - cdf.Percentile(25)\n",
    "iqr"
   ]
  },
  {
   "cell_type": "markdown",
   "metadata": {},
   "source": [
    "Yes, the above output should be zero since there are so many ``prglngth`` = 39 weeks.\n",
    "\n",
    "**The Median**: There are several ways to do this, but the easiest way using Cdfs is as follows:"
   ]
  },
  {
   "cell_type": "code",
   "execution_count": 58,
   "metadata": {},
   "outputs": [
    {
     "data": {
      "text/plain": [
       "39"
      ]
     },
     "execution_count": 58,
     "metadata": {},
     "output_type": "execute_result"
    }
   ],
   "source": [
    "cdf.Percentile(50)"
   ]
  },
  {
   "cell_type": "markdown",
   "metadata": {},
   "source": [
    "So, the median pregnancy length for live babies is 39 weeks."
   ]
  },
  {
   "cell_type": "markdown",
   "metadata": {},
   "source": [
    "## Percentiles are often used to summarize the shape of a distribution.\n",
    "\n",
    "Statistics like that represent equally-spaced points in a CDF are called **quantiles**.\n",
    "\n",
    "For example, the distribution of income is often reported in **quintiles** (the split at 20th, 40th, 60th, and 80th percentiles).\n",
    "\n",
    "The **interquartile range** is the difference between 75th and 25th percentile.\n",
    "\n",
    "## Random numbers\n",
    "\n",
    "Suppose we choose a random sample from the population of live births and look up the percentile rank of their birth weights. Now suppose we compute the CDF of the percentile ranks. What do you think the distribution will look like?\n",
    "\n",
    "**Replacement**: A property of a sampling process. 'With Replacement' means that the same value can be chosen more than once. 'Without Replacement' means that once a value is chosen, it is removed from the population."
   ]
  },
  {
   "cell_type": "code",
   "execution_count": 67,
   "metadata": {},
   "outputs": [
    {
     "data": {
      "image/png": "[encoded data removed]",
      "text/plain": [
       "<Figure size 432x288 with 1 Axes>"
      ]
     },
     "metadata": {
      "needs_background": "light"
     },
     "output_type": "display_data"
    },
    {
     "data": {
      "text/plain": [
       "<Figure size 576x432 with 0 Axes>"
      ]
     },
     "metadata": {},
     "output_type": "display_data"
    }
   ],
   "source": [
    "# make cdf of birth weights\n",
    "weights = live.totalwgt_lb\n",
    "cdf = thinkstats2.Cdf(weights, label='totalwgt_lb')\n",
    "\n",
    "# generate a sample\n",
    "sample = np.random.choice(weights, 100, replace=True)\n",
    "\n",
    "# compute the percentile rank of each value in the sample\n",
    "ranks = [cdf.PercentileRank(x) for x in sample]\n",
    "\n",
    "# plot our findings\n",
    "rank_cdf = thinkstats2.Cdf(ranks)\n",
    "thinkplot.Cdf(rank_cdf)\n",
    "thinkplot.Show(xlabel='percentile rank', ylabel='CDF')"
   ]
  },
  {
   "cell_type": "markdown",
   "metadata": {},
   "source": [
    "Why did we do that?\n",
    "\n",
    "To show that the distribution of possible ranks is uniform (i.e. 40th percentile has CDF of 0.4, and so on). This is useful because it's the basis of a simple and efficient algorithm for generating random numbers with a given CDF."
   ]
  },
  {
   "cell_type": "markdown",
   "metadata": {},
   "source": [
    "## Comparing Percentile Ranks (Running example)\n",
    "\n",
    "Foot race results are typically broken down by age & gender (for example, a 41 year old male would be classified as ``M4049``). \n",
    "\n",
    "Say you ranked 26th out of 256th of the ``M4049`` age group in a race. You can use this to derive how much slower you can excpect to be in 10 years."
   ]
  },
  {
   "cell_type": "code",
   "execution_count": 73,
   "metadata": {},
   "outputs": [
    {
     "data": {
      "text/plain": [
       "90.234375"
      ]
     },
     "execution_count": 73,
     "metadata": {},
     "output_type": "execute_result"
    }
   ],
   "source": [
    "def PositionToPercentile(position, field_size):\n",
    "    beat = field_size - position + 1\n",
    "    percentile = 100 * beat / field_size\n",
    "    return percentile\n",
    "\n",
    "\n",
    "position = 26\n",
    "field_size = 256\n",
    "percentile = PositionToPercentile(position=position, field_size=field_size)\n",
    "percentile"
   ]
  },
  {
   "cell_type": "markdown",
   "metadata": {},
   "source": [
    "Okay, so we're in the 90th percentile in this race at age 41. How do we find out what our speed would be in the M5059 group, assuming his percentile rank would be the same?"
   ]
  },
  {
   "cell_type": "code",
   "execution_count": 76,
   "metadata": {},
   "outputs": [
    {
     "data": {
      "text/plain": [
       "17.69921875"
      ]
     },
     "execution_count": 76,
     "metadata": {},
     "output_type": "execute_result"
    }
   ],
   "source": [
    "def PercentileToPosition(percentile, field_size):\n",
    "    beat = field_size * percentile / 100\n",
    "    position = field_size - beat + 1\n",
    "    return position\n",
    "\n",
    "field_size = 171\n",
    "\n",
    "PercentileToPosition(percentile, field_size)"
   ]
  },
  {
   "cell_type": "markdown",
   "metadata": {},
   "source": [
    "Alright, so with this new field size of 171 people that were in the M5059 group, we would have finished between 17th and 18th place. We can then just get the actual times for the people ranked as such to see at which speed we can expect to be running in ten years."
   ]
  },
  {
   "cell_type": "code",
   "execution_count": null,
   "metadata": {},
   "outputs": [],
   "source": []
  }
 ],
 "metadata": {
  "kernelspec": {
   "display_name": "Python 3",
   "language": "python",
   "name": "python3"
  },
  "language_info": {
   "codemirror_mode": {
    "name": "ipython",
    "version": 3
   },
   "file_extension": ".py",
   "mimetype": "text/x-python",
   "name": "python",
   "nbconvert_exporter": "python",
   "pygments_lexer": "ipython3",
   "version": "3.8.5"
  }
 },
 "nbformat": 4,
 "nbformat_minor": 4
}
