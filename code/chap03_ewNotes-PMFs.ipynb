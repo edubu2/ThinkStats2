{
 "cells": [
  {
   "cell_type": "markdown",
   "metadata": {},
   "source": [
    "# Think Stats 2 Chapter 3: Probability Mass Functions\n",
    "\n",
    "Think Stats 2 was written by Allen B. Downey\n",
    "\n",
    "**The Question: Do first babies tend to be born late?**"
   ]
  },
  {
   "cell_type": "markdown",
   "metadata": {},
   "source": [
    "**NOTE**: I will be using the same notation as the textbook. It is defined in Section 3.2 as follows: \n",
    "\n",
    "``\"My notation in this section might seem inconsistent, but there is a system: I\n",
    "use Pmf for the name of the class, pmf for an instance of the class, and PMF\n",
    "for the mathematical concept of a probability mass function.\"`` "
   ]
  },
  {
   "cell_type": "code",
   "execution_count": 1,
   "metadata": {},
   "outputs": [],
   "source": [
    "import nsfg, thinkplot, probability, thinkstats2\n",
    "import pandas as pd\n",
    "import numpy as np\n",
    "\n",
    "pd.options.display.max_rows = 400\n",
    "pd.options.display.max_columns = 244"
   ]
  },
  {
   "cell_type": "code",
   "execution_count": 2,
   "metadata": {
    "scrolled": true
   },
   "outputs": [],
   "source": [
    "# read survey data\n",
    "preg = nsfg.ReadFemPreg()\n",
    "\n",
    "# filter to live births only\n",
    "live = preg[preg.outcome == 1]\n",
    "\n",
    "# filter live births by firstborns vs. others\n",
    "first = live[live.birthord == 1]\n",
    "other = live[live.birthord != 1]\n",
    "\n",
    "# define width to be used for stacked graphs\n",
    "width = 0.45\n",
    "\n",
    "# define axis to use for comparing PMFs\n",
    "ax = [27, 46, 0, 0.6]"
   ]
  },
  {
   "cell_type": "markdown",
   "metadata": {},
   "source": [
    "We can answer the above question using PMFs.\n",
    "\n",
    "We were not able to answer the question using the **distribution** alone (visualized with a histogram) because the ``first`` and ``other`` dataFrames have a different number of values. Therefore, comparing the frequencies within each would be misleading. By converting frequencies to probabilities, we're able to compare the two distributions effectively and without being mislead by the difference sample size."
   ]
  },
  {
   "cell_type": "code",
   "execution_count": 3,
   "metadata": {},
   "outputs": [
    {
     "name": "stdout",
     "output_type": "stream",
     "text": [
      "\n",
      "first_pmf:\n",
      "\n",
      "Pmf({39: 0.47903920235667347, 40: 0.12145932472241106, 41: 0.08157715839564922, 38: 0.0616360752322683, 37: 0.04713346929526399, 42: 0.04645365964196692, 36: 0.03897575345569907, 35: 0.03602991162474507, 43: 0.01971447994561523, 30: 0.016542034896895538, 32: 0.012463176977113076, 34: 0.006571493315205076, 33: 0.0063448900974393836, 28: 0.005438477226376614, 44: 0.005211874008610923, 26: 0.0036256514842510764, 31: 0.003399048266485384, 29: 0.0020394289598912306, 24: 0.0015862225243598459, 45: 0.0013596193065941536, 22: 0.0006798096532970768, 48: 0.0006798096532970768, 20: 0.00022660321776569228, 47: 0.00022660321776569228, 17: 0.00022660321776569228, 21: 0.00022660321776569228, 25: 0.00022660321776569228, 46: 0.00022660321776569228, 23: 0.00022660321776569228, 27: 0.00022660321776569228, 0: 0.00022660321776569228})\n",
      "\n"
     ]
    }
   ],
   "source": [
    "# get Pmf instances\n",
    "first_pmf = thinkstats2.Pmf(first.prglngth)\n",
    "other_pmf = thinkstats2.Pmf(other.prglngth)\n",
    "\n",
    "print(f\"\"\"\n",
    "first_pmf:\\n\\n{first_pmf}\n",
    "\"\"\")"
   ]
  },
  {
   "cell_type": "markdown",
   "metadata": {},
   "source": [
    "As you can see, a ``pmf`` is very similar to an instance of ``Hist``, but it converts frequencies to probabilities by dividing each frequency by the total # of values (``n``).\n",
    "\n",
    "If the PMF is **normalized**, the sum of the probabilities should equal ``1.0``. We can check this using the ``Total`` method."
   ]
  },
  {
   "cell_type": "code",
   "execution_count": 4,
   "metadata": {},
   "outputs": [
    {
     "data": {
      "text/plain": [
       "(1.0, 1.0000000000000002)"
      ]
     },
     "execution_count": 4,
     "metadata": {},
     "output_type": "execute_result"
    }
   ],
   "source": [
    "# confirm our pmfs are normalized\n",
    "first_pmf.Total(), other_pmf.Total()"
   ]
  },
  {
   "cell_type": "code",
   "execution_count": 9,
   "metadata": {},
   "outputs": [
    {
     "data": {
      "text/plain": [
       "1.0"
      ]
     },
     "execution_count": 9,
     "metadata": {},
     "output_type": "execute_result"
    }
   ],
   "source": [
    "# normalize other_pmf (since it's slightly off)\n",
    "other_pmf.Normalize()\n",
    "other_pmf.Total()"
   ]
  },
  {
   "cell_type": "markdown",
   "metadata": {},
   "source": [
    "Okay, now let's compare these PMF's visually by plotting two figures:\n",
    "1. Pmf as a bar graph (helpful when the number of values in the pmf is small)\n",
    "2. Pmf as a step function (useful when large num. values in Pmf and Pmf is smooth)"
   ]
  },
  {
   "cell_type": "code",
   "execution_count": 11,
   "metadata": {},
   "outputs": [
    {
     "data": {
      "image/png": "[encoded data removed]",
      "text/plain": [
       "<Figure size 864x432 with 2 Axes>"
      ]
     },
     "metadata": {
      "needs_background": "light"
     },
     "output_type": "display_data"
    },
    {
     "data": {
      "text/plain": [
       "<Figure size 576x432 with 0 Axes>"
      ]
     },
     "metadata": {},
     "output_type": "display_data"
    }
   ],
   "source": [
    "# hint to thinkplot that the resulting figure will have one row (default), two columns\n",
    "thinkplot.PrePlot(2, cols=2)\n",
    "\n",
    "# define axes (since we are going to be comparing two charts, they need to have the same axis)\n",
    "ax = [27, 46, 0, 0.6] # syntax: [x_min, x_max, y_min, y_max]\n",
    "\n",
    "# create first figure (left)\n",
    "thinkplot.Hist(first_pmf, align='right', width=width)\n",
    "thinkplot.Hist(other_pmf, align='left', width=width)\n",
    "thinkplot.Config(xlabel='Pregnancy length(weeks)', ylabel='PMF', axis=ax)\n",
    "\n",
    "# create the second figure\n",
    "thinkplot.PrePlot(2) # call PrePlot again to reset color generator\n",
    "thinkplot.SubPlot(2) # call SubPlot to indicate a switch to the second figure (shown on right of this cell's output)\n",
    "thinkplot.Pmfs([first_pmf, other_pmf])\n",
    "thinkplot.Show(xlabel='weeks', axis=ax)"
   ]
  },
  {
   "cell_type": "markdown",
   "metadata": {},
   "source": [
    "We can use the ``Prob`` method on Pmf instances to get the probability of a certain value, like so:"
   ]
  },
  {
   "cell_type": "code",
   "execution_count": 16,
   "metadata": {},
   "outputs": [
    {
     "data": {
      "text/plain": [
       "0.47903920235667347"
      ]
     },
     "execution_count": 16,
     "metadata": {},
     "output_type": "execute_result"
    }
   ],
   "source": [
    "first_pmf.Prob(39)"
   ]
  },
  {
   "cell_type": "markdown",
   "metadata": {},
   "source": [
    "In the NSFG data, the biggest differences in the distributions are near the\n",
    "mode. So it makes sense to zoom in on that part of the graph, and to\n",
    "transform the data to emphasize differences. \n",
    "\n",
    "We will do this by getting the probability for first births and other births during each week and take the difference. That difference tells us, for each week, how much more likely a first baby is to be born during a certain week than a not-first baby."
   ]
  },
  {
   "cell_type": "code",
   "execution_count": 22,
   "metadata": {},
   "outputs": [
    {
     "data": {
      "image/png": "[encoded data removed]",
      "text/plain": [
       "<Figure size 432x288 with 1 Axes>"
      ]
     },
     "metadata": {
      "needs_background": "light"
     },
     "output_type": "display_data"
    }
   ],
   "source": [
    "weeks = range(35, 46)\n",
    "\n",
    "diffs = []\n",
    "for week in weeks:\n",
    "    p1 = first_pmf.Prob(week)\n",
    "    p2 = other_pmf.Prob(week)\n",
    "    diff = 100 * (p1 - p2)\n",
    "    diffs.append(diff)\n",
    "\n",
    "thinkplot.Bar(weeks, diffs)\n",
    "thinkplot.Config(xlabel='Pregnancy length(weeks)', ylabel='Difference (percentage points)')"
   ]
  },
  {
   "cell_type": "markdown",
   "metadata": {},
   "source": [
    "The above figure clarifies the pattern we're seeing: first babies are less likely to be born at 39 weeks, and more likely to be born at 41 & 42 weeks. We're not quite sold on this conclusion yet. We need to determine whether this effect is due to random variation or not (we will address this later on)."
   ]
  },
  {
   "cell_type": "code",
   "execution_count": null,
   "metadata": {},
   "outputs": [],
   "source": []
  }
 ],
 "metadata": {
  "kernelspec": {
   "display_name": "Python 3",
   "language": "python",
   "name": "python3"
  },
  "language_info": {
   "codemirror_mode": {
    "name": "ipython",
    "version": 3
   },
   "file_extension": ".py",
   "mimetype": "text/x-python",
   "name": "python",
   "nbconvert_exporter": "python",
   "pygments_lexer": "ipython3",
   "version": "3.8.5"
  }
 },
 "nbformat": 4,
 "nbformat_minor": 4
}
